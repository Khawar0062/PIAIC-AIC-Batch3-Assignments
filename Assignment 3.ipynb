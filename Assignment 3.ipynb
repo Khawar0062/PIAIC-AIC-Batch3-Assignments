{
 "cells": [
  {
   "cell_type": "markdown",
   "metadata": {},
   "source": [
    "# Dictionary Tasks "
   ]
  },
  {
   "cell_type": "markdown",
   "metadata": {},
   "source": [
    "# Task 1\n",
    "\n",
    "Python program to Add a Key-Value Pair to the Dictionary "
   ]
  },
  {
   "cell_type": "markdown",
   "metadata": {},
   "source": [
    "# Case 1"
   ]
  },
  {
   "cell_type": "code",
   "execution_count": 5,
   "metadata": {},
   "outputs": [
    {
     "name": "stdout",
     "output_type": "stream",
     "text": [
      "Enter the key (int) to be added: 12\n",
      "Enter the value for the key to be added 34\n",
      "Updated Dictionary is:\n",
      "{12: 34}\n"
     ]
    }
   ],
   "source": [
    "key = int(input(\"Enter the key (int) to be added:\"))\n",
    "value = int(input(\"Enter the value for the key to be added\"))\n",
    "dic = {}\n",
    "dic.update({key:value})\n",
    "print(\"Updated Dictionary is:\")\n",
    "print(dic)"
   ]
  },
  {
   "cell_type": "markdown",
   "metadata": {},
   "source": [
    "# Case 2"
   ]
  },
  {
   "cell_type": "code",
   "execution_count": 38,
   "metadata": {},
   "outputs": [
    {
     "name": "stdout",
     "output_type": "stream",
     "text": [
      "Enter the key (int) to be added: 34\n",
      "Enter the value for the key to be added 29\n",
      "Updated Dictionary is:\n",
      "{34: 29}\n"
     ]
    }
   ],
   "source": [
    "key = int(input(\"Enter the key (int) to be added:\"))\n",
    "value = int(input(\"Enter the value for the key to be added\"))\n",
    "dic = {}\n",
    "dic.update({key:value})\n",
    "print(\"Updated Dictionary is:\")\n",
    "print(dic)"
   ]
  },
  {
   "cell_type": "markdown",
   "metadata": {},
   "source": [
    "# Task 2\n",
    "\n",
    "Python Program to Concatenate Two Dictionaries into One"
   ]
  },
  {
   "cell_type": "code",
   "execution_count": 10,
   "metadata": {},
   "outputs": [
    {
     "name": "stdout",
     "output_type": "stream",
     "text": [
      "Concatenated Dictionary is:\n",
      "{'A': 1, 'C': 3, 'B': 2, 'D': 4}\n"
     ]
    }
   ],
   "source": [
    "Dict1 = {\"A\":1 , \"C\":3}\n",
    "Dict2 = {\"B\":2 , \"D\":4}\n",
    "Dict1.update(Dict2)\n",
    "print(\"Concatenated Dictionary is:\")\n",
    "print(Dict1)"
   ]
  },
  {
   "cell_type": "markdown",
   "metadata": {},
   "source": [
    "# Task 3\n",
    "\n",
    "Python program to Check if a Given Key Exists in a Dictionary or Not"
   ]
  },
  {
   "cell_type": "markdown",
   "metadata": {},
   "source": [
    "# Case 1"
   ]
  },
  {
   "cell_type": "code",
   "execution_count": 36,
   "metadata": {},
   "outputs": [
    {
     "name": "stdout",
     "output_type": "stream",
     "text": [
      "Enter key to check:A\n",
      "key is present and the value of key is:\n",
      "1\n"
     ]
    }
   ],
   "source": [
    "d = {\"A\":1 , \"B\":2 , \"C\":3}\n",
    "key = input(\"Enter key to check:\")\n",
    "if key in d.keys():\n",
    "    print(\"key is present and the value of key is:\")\n",
    "    print(d[key])\n",
    "else:\n",
    "    print(\"key isn't present in the dictionary:\")"
   ]
  },
  {
   "cell_type": "markdown",
   "metadata": {},
   "source": [
    "# Case 2"
   ]
  },
  {
   "cell_type": "code",
   "execution_count": 37,
   "metadata": {},
   "outputs": [
    {
     "name": "stdout",
     "output_type": "stream",
     "text": [
      "Enter key to check:F\n",
      "key isn't present in the dictionary:\n"
     ]
    }
   ],
   "source": [
    "d = {\"A\":1 , \"B\":2 , \"C\":3}\n",
    "key = input(\"Enter key to check:\")\n",
    "if key in d.keys():\n",
    "    print(\"key is present and the value of key is:\")\n",
    "    print(d[key])\n",
    "else:\n",
    "    print(\"key isn't present in the dictionary:\")"
   ]
  },
  {
   "cell_type": "markdown",
   "metadata": {},
   "source": [
    "# Task 4\n",
    "\n",
    "Python Program to Generate a Dictionary that contains Numbers (between 1 and n) in the form(x,x*x).\n"
   ]
  },
  {
   "cell_type": "markdown",
   "metadata": {},
   "source": [
    "# Case 1"
   ]
  },
  {
   "cell_type": "code",
   "execution_count": 2,
   "metadata": {},
   "outputs": [
    {
     "name": "stdout",
     "output_type": "stream",
     "text": [
      "Enter a number:5\n",
      "{1: 1, 2: 4, 3: 9, 4: 16, 5: 25}\n"
     ]
    }
   ],
   "source": [
    "n=int(input(\"Enter a number:\"))\n",
    "d={x:x*x for x in range(1,n+1)}\n",
    "print(d)"
   ]
  },
  {
   "cell_type": "markdown",
   "metadata": {},
   "source": [
    "# Case 2"
   ]
  },
  {
   "cell_type": "code",
   "execution_count": 7,
   "metadata": {},
   "outputs": [
    {
     "name": "stdout",
     "output_type": "stream",
     "text": [
      "Enter a number:20\n",
      "{1: 1, 2: 4, 3: 9, 4: 16, 5: 25, 6: 36, 7: 49, 8: 64, 9: 81, 10: 100, 11: 121, 12: 144, 13: 169, 14: 196, 15: 225, 16: 256, 17: 289, 18: 324, 19: 361, 20: 400}\n"
     ]
    }
   ],
   "source": [
    "n=int(input(\"Enter a number:\"))\n",
    "d={x:x*x for x in range(1,n+1)}\n",
    "print(d)"
   ]
  },
  {
   "cell_type": "markdown",
   "metadata": {},
   "source": [
    "# Task 5\n",
    "\n",
    "Python Program to Sum All the items in a Dictionary"
   ]
  },
  {
   "cell_type": "code",
   "execution_count": 9,
   "metadata": {},
   "outputs": [
    {
     "name": "stdout",
     "output_type": "stream",
     "text": [
      "Total sum of values in Dictionary\n",
      "190\n"
     ]
    }
   ],
   "source": [
    "Dict = {\"A\":25 , \"B\":40 , \"C\":55 , \"D\":70}\n",
    "total_sum = sum(Dict.values())\n",
    "print(\"Total sum of values in Dictionary\")\n",
    "print(total_sum)"
   ]
  },
  {
   "cell_type": "markdown",
   "metadata": {},
   "source": [
    "# Task 6 \n",
    "\n",
    "Python Program to Multiply All the items in Dictionary.\n"
   ]
  },
  {
   "cell_type": "code",
   "execution_count": 20,
   "metadata": {},
   "outputs": [
    {
     "name": "stdout",
     "output_type": "stream",
     "text": [
      "The multiplication of all items is:\n",
      "3300000\n"
     ]
    }
   ],
   "source": [
    "Dict = {\"A\":25 , \"B\":40 , \"C\":55 , \"D\":60}\n",
    "tot = 1\n",
    "for i in Dict:\n",
    "    tot = tot*Dict[i]\n",
    "print(\"The multiplication of all items is:\")\n",
    "print(tot)    "
   ]
  },
  {
   "cell_type": "markdown",
   "metadata": {},
   "source": [
    "# Task 7\n",
    "\n",
    "Python Program to Remove the Given key from a Dictionary"
   ]
  },
  {
   "cell_type": "markdown",
   "metadata": {},
   "source": [
    "# Case 1"
   ]
  },
  {
   "cell_type": "code",
   "execution_count": 2,
   "metadata": {},
   "outputs": [
    {
     "name": "stdout",
     "output_type": "stream",
     "text": [
      "Initial Dictionary\n",
      "{'A': 25, 'B': 40, 'C': 55, 'D': 60}\n",
      "Enter a key to delete(A-D):C\n",
      "Upgraded Dictionary\n",
      "{'A': 25, 'B': 40, 'D': 60}\n"
     ]
    }
   ],
   "source": [
    "Dict = {\"A\":25 , \"B\":40 , \"C\":55 , \"D\":60}\n",
    "print(\"Initial Dictionary\")\n",
    "print(Dict)\n",
    "key = input(\"Enter a key to delete(A-D):\")\n",
    "if key in Dict:\n",
    "    del Dict[key]\n",
    "else:\n",
    "    print(\"key not found\")\n",
    "    exit(0)\n",
    "print(\"Upgraded Dictionary\")\n",
    "print(Dict)\n",
    "    \n",
    "    "
   ]
  },
  {
   "cell_type": "markdown",
   "metadata": {},
   "source": [
    "# Case 2"
   ]
  },
  {
   "cell_type": "code",
   "execution_count": 3,
   "metadata": {},
   "outputs": [
    {
     "name": "stdout",
     "output_type": "stream",
     "text": [
      "Initial Dictionary\n",
      "{'A': 25, 'B': 40, 'C': 55, 'D': 60}\n",
      "Enter a key to delete(A-D):G\n",
      "key not found\n",
      "Upgraded Dictionary\n",
      "{'A': 25, 'B': 40, 'C': 55, 'D': 60}\n"
     ]
    }
   ],
   "source": [
    "Dict = {\"A\":25 , \"B\":40 , \"C\":55 , \"D\":60}\n",
    "print(\"Initial Dictionary\")\n",
    "print(Dict)\n",
    "key = input(\"Enter a key to delete(A-D):\")\n",
    "if key in Dict:\n",
    "    del Dict[key]\n",
    "else:\n",
    "    print(\"key not found\")\n",
    "    exit(0)\n",
    "print(\"Upgraded Dictionary\")\n",
    "print(Dict)\n"
   ]
  },
  {
   "cell_type": "code",
   "execution_count": null,
   "metadata": {},
   "outputs": [],
   "source": []
  }
 ],
 "metadata": {
  "kernelspec": {
   "display_name": "Python 3",
   "language": "python",
   "name": "python3"
  },
  "language_info": {
   "codemirror_mode": {
    "name": "ipython",
    "version": 3
   },
   "file_extension": ".py",
   "mimetype": "text/x-python",
   "name": "python",
   "nbconvert_exporter": "python",
   "pygments_lexer": "ipython3",
   "version": "3.7.4"
  }
 },
 "nbformat": 4,
 "nbformat_minor": 2
}
