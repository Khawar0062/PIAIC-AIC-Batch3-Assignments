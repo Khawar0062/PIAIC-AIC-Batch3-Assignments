{
 "cells": [
  {
   "cell_type": "markdown",
   "metadata": {},
   "source": [
    "# Dictionary Tasks "
   ]
  },
  {
   "cell_type": "markdown",
   "metadata": {},
   "source": [
    "# Task 1\n",
    "\n",
    "Python program to Add a Key-Value Pair to the Dictionary "
   ]
  },
  {
   "cell_type": "markdown",
   "metadata": {},
   "source": [
    "# Case 1"
   ]
  },
  {
   "cell_type": "code",
   "execution_count": 5,
   "metadata": {},
   "outputs": [
    {
     "name": "stdout",
     "output_type": "stream",
     "text": [
      "Enter the key (int) to be added: 12\n",
      "Enter the value for the key to be added 34\n",
      "Updated Dictionary is:\n",
      "{12: 34}\n"
     ]
    }
   ],
   "source": [
    "key = int(input(\"Enter the key (int) to be added:\"))\n",
    "value = int(input(\"Enter the value for the key to be added\"))\n",
    "dic = {}\n",
    "dic.update({key:value})\n",
    "print(\"Updated Dictionary is:\")\n",
    "print(dic)"
   ]
  },
  {
   "cell_type": "markdown",
   "metadata": {},
   "source": [
    "# Case 2"
   ]
  },
  {
   "cell_type": "code",
   "execution_count": 38,
   "metadata": {},
   "outputs": [
    {
     "name": "stdout",
     "output_type": "stream",
     "text": [
      "Enter the key (int) to be added: 34\n",
      "Enter the value for the key to be added 29\n",
      "Updated Dictionary is:\n",
      "{34: 29}\n"
     ]
    }
   ],
   "source": [
    "key = int(input(\"Enter the key (int) to be added:\"))\n",
    "value = int(input(\"Enter the value for the key to be added\"))\n",
    "dic = {}\n",
    "dic.update({key:value})\n",
    "print(\"Updated Dictionary is:\")\n",
    "print(dic)"
   ]
  },
  {
   "cell_type": "markdown",
   "metadata": {},
   "source": [
    "# Task 2\n",
    "\n",
    "Python Program to Concatenate Two Dictionaries into One"
   ]
  },
  {
   "cell_type": "code",
   "execution_count": 10,
   "metadata": {},
   "outputs": [
    {
     "name": "stdout",
     "output_type": "stream",
     "text": [
      "Concatenated Dictionary is:\n",
      "{'A': 1, 'C': 3, 'B': 2, 'D': 4}\n"
     ]
    }
   ],
   "source": [
    "Dict1 = {\"A\":1 , \"C\":3}\n",
    "Dict2 = {\"B\":2 , \"D\":4}\n",
    "Dict1.update(Dict2)\n",
    "print(\"Concatenated Dictionary is:\")\n",
    "print(Dict1)"
   ]
  },
  {
   "cell_type": "markdown",
   "metadata": {},
   "source": [
    "# Task 3\n",
    "\n",
    "Python program to Check if a Given Key Exists in a Dictionary or Not"
   ]
  },
  {
   "cell_type": "markdown",
   "metadata": {},
   "source": [
    "# Case 1"
   ]
  },
  {
   "cell_type": "code",
   "execution_count": 36,
   "metadata": {},
   "outputs": [
    {
     "name": "stdout",
     "output_type": "stream",
     "text": [
      "Enter key to check:A\n",
      "key is present and the value of key is:\n",
      "1\n"
     ]
    }
   ],
   "source": [
    "d = {\"A\":1 , \"B\":2 , \"C\":3}\n",
    "key = input(\"Enter key to check:\")\n",
    "if key in d.keys():\n",
    "    print(\"key is present and the value of key is:\")\n",
    "    print(d[key])\n",
    "else:\n",
    "    print(\"key isn't present in the dictionary:\")"
   ]
  },
  {
   "cell_type": "markdown",
   "metadata": {},
   "source": [
    "# Case 2"
   ]
  },
  {
   "cell_type": "code",
   "execution_count": 37,
   "metadata": {},
   "outputs": [
    {
     "name": "stdout",
     "output_type": "stream",
     "text": [
      "Enter key to check:F\n",
      "key isn't present in the dictionary:\n"
     ]
    }
   ],
   "source": [
    "d = {\"A\":1 , \"B\":2 , \"C\":3}\n",
    "key = input(\"Enter key to check:\")\n",
    "if key in d.keys():\n",
    "    print(\"key is present and the value of key is:\")\n",
    "    print(d[key])\n",
    "else:\n",
    "    print(\"key isn't present in the dictionary:\")"
   ]
  },
  {
   "cell_type": "markdown",
   "metadata": {},
   "source": [
    "# Task 4\n",
    "\n",
    "Python Program to Generate a Dictionary that contains Numbers (between 1 and n) in the form(x,x*x).\n"
   ]
  },
  {
   "cell_type": "markdown",
   "metadata": {},
   "source": [
    "# Case 1"
   ]
  },
  {
   "cell_type": "code",
   "execution_count": 2,
   "metadata": {},
   "outputs": [
    {
     "name": "stdout",
     "output_type": "stream",
     "text": [
      "Enter a number:5\n",
      "{1: 1, 2: 4, 3: 9, 4: 16, 5: 25}\n"
     ]
    }
   ],
   "source": [
    "n=int(input(\"Enter a number:\"))\n",
    "d={x:x*x for x in range(1,n+1)}\n",
    "print(d)"
   ]
  },
  {
   "cell_type": "markdown",
   "metadata": {},
   "source": [
    "# Case 2"
   ]
  },
  {
   "cell_type": "code",
   "execution_count": 7,
   "metadata": {},
   "outputs": [
    {
     "name": "stdout",
     "output_type": "stream",
     "text": [
      "Enter a number:20\n",
      "{1: 1, 2: 4, 3: 9, 4: 16, 5: 25, 6: 36, 7: 49, 8: 64, 9: 81, 10: 100, 11: 121, 12: 144, 13: 169, 14: 196, 15: 225, 16: 256, 17: 289, 18: 324, 19: 361, 20: 400}\n"
     ]
    }
   ],
   "source": [
    "n=int(input(\"Enter a number:\"))\n",
    "d={x:x*x for x in range(1,n+1)}\n",
    "print(d)"
   ]
  },
  {
   "cell_type": "markdown",
   "metadata": {},
   "source": [
    "# Task 5\n",
    "\n",
    "Python Program to Sum All the items in a Dictionary"
   ]
  },
  {
   "cell_type": "code",
   "execution_count": 9,
   "metadata": {},
   "outputs": [
    {
     "name": "stdout",
     "output_type": "stream",
     "text": [
      "Total sum of values in Dictionary\n",
      "190\n"
     ]
    }
   ],
   "source": [
    "Dict = {\"A\":25 , \"B\":40 , \"C\":55 , \"D\":70}\n",
    "total_sum = sum(Dict.values())\n",
    "print(\"Total sum of values in Dictionary\")\n",
    "print(total_sum)"
   ]
  },
  {
   "cell_type": "markdown",
   "metadata": {},
   "source": [
    "# Task 6 \n",
    "\n",
    "Python Program to Multiply All the items in Dictionary.\n"
   ]
  },
  {
   "cell_type": "code",
   "execution_count": 20,
   "metadata": {},
   "outputs": [
    {
     "name": "stdout",
     "output_type": "stream",
     "text": [
      "The multiplication of all items is:\n",
      "3300000\n"
     ]
    }
   ],
   "source": [
    "Dict = {\"A\":25 , \"B\":40 , \"C\":55 , \"D\":60}\n",
    "tot = 1\n",
    "for i in Dict:\n",
    "    tot = tot*Dict[i]\n",
    "print(\"The multiplication of all items is:\")\n",
    "print(tot)    "
   ]
  },
  {
   "cell_type": "markdown",
   "metadata": {},
   "source": [
    "# Task 7\n",
    "\n",
    "Python Program to Remove the Given key from a Dictionary"
   ]
  },
  {
   "cell_type": "markdown",
   "metadata": {},
   "source": [
    "# Case 1"
   ]
  },
  {
   "cell_type": "code",
   "execution_count": 2,
   "metadata": {},
   "outputs": [
    {
     "name": "stdout",
     "output_type": "stream",
     "text": [
      "Initial Dictionary\n",
      "{'A': 25, 'B': 40, 'C': 55, 'D': 60}\n",
      "Enter a key to delete(A-D):C\n",
      "Upgraded Dictionary\n",
      "{'A': 25, 'B': 40, 'D': 60}\n"
     ]
    }
   ],
   "source": [
    "Dict = {\"A\":25 , \"B\":40 , \"C\":55 , \"D\":60}\n",
    "print(\"Initial Dictionary\")\n",
    "print(Dict)\n",
    "key = input(\"Enter a key to delete(A-D):\")\n",
    "if key in Dict:\n",
    "    del Dict[key]\n",
    "else:\n",
    "    print(\"key not found\")\n",
    "    exit(0)\n",
    "print(\"Upgraded Dictionary\")\n",
    "print(Dict)\n",
    "    \n",
    "    "
   ]
  },
  {
   "cell_type": "markdown",
   "metadata": {},
   "source": [
    "# Case 2"
   ]
  },
  {
   "cell_type": "code",
   "execution_count": 3,
   "metadata": {},
   "outputs": [
    {
     "name": "stdout",
     "output_type": "stream",
     "text": [
      "Initial Dictionary\n",
      "{'A': 25, 'B': 40, 'C': 55, 'D': 60}\n",
      "Enter a key to delete(A-D):G\n",
      "key not found\n",
      "Upgraded Dictionary\n",
      "{'A': 25, 'B': 40, 'C': 55, 'D': 60}\n"
     ]
    }
   ],
   "source": [
    "Dict = {\"A\":25 , \"B\":40 , \"C\":55 , \"D\":60}\n",
    "print(\"Initial Dictionary\")\n",
    "print(Dict)\n",
    "key = input(\"Enter a key to delete(A-D):\")\n",
    "if key in Dict:\n",
    "    del Dict[key]\n",
    "else:\n",
    "    print(\"key not found\")\n",
    "    exit(0)\n",
    "print(\"Upgraded Dictionary\")\n",
    "print(Dict)\n"
   ]
  },
  {
   "cell_type": "markdown",
   "metadata": {},
   "source": [
    "# Task 8\n",
    "\n",
    "Python Program to Map Two Lists into a Dictionary"
   ]
  },
  {
   "cell_type": "markdown",
   "metadata": {},
   "source": [
    "# Case 1"
   ]
  },
  {
   "cell_type": "code",
   "execution_count": 2,
   "metadata": {},
   "outputs": [
    {
     "name": "stdout",
     "output_type": "stream",
     "text": [
      "Enter number of elements for dictionary3\n",
      "For keys\n",
      "Enter Element1:1\n",
      "Enter Element2:2\n",
      "Enter Element3:3\n",
      "For values\n",
      "Enter Element1:1\n",
      "Enter Element2:4\n",
      "Enter Element3:9\n",
      "The Dictionary is:\n",
      "{1: 1, 2: 4, 3: 9}\n"
     ]
    }
   ],
   "source": [
    "keys = []\n",
    "values = []\n",
    "n = int(input(\"Enter number of elements for dictionary\"))\n",
    "print(\"For keys\")\n",
    "for x in range(0,n):\n",
    "    element=int(input(\"Enter Element\" + str(x+1) + \":\"))\n",
    "    keys.append(element)\n",
    "print(\"For values\")\n",
    "for x in range(0,n):\n",
    "    element=int(input(\"Enter Element\" + str(x+1) + \":\"))\n",
    "    values.append(element)\n",
    "d = dict(zip(keys,values))\n",
    "print(\"The Dictionary is:\")\n",
    "print(d)"
   ]
  },
  {
   "cell_type": "markdown",
   "metadata": {},
   "source": [
    "# Case 2"
   ]
  },
  {
   "cell_type": "code",
   "execution_count": 3,
   "metadata": {
    "scrolled": true
   },
   "outputs": [
    {
     "name": "stdout",
     "output_type": "stream",
     "text": [
      "Enter number of elements for dictionary2\n",
      "For keys\n",
      "Enter Element1:23\n",
      "Enter Element2:46\n",
      "For values\n",
      "Enter Element1:69\n",
      "Enter Element2:138\n",
      "The Dictionary is:\n",
      "{23: 69, 46: 138}\n"
     ]
    }
   ],
   "source": [
    "keys = []\n",
    "values = []\n",
    "n = int(input(\"Enter number of elements for dictionary\"))\n",
    "print(\"For keys\")\n",
    "for x in range(0,n):\n",
    "    element=int(input(\"Enter Element\" + str(x+1) + \":\"))\n",
    "    keys.append(element)\n",
    "print(\"For values\")\n",
    "for x in range(0,n):\n",
    "    element=int(input(\"Enter Element\" + str(x+1) + \":\"))\n",
    "    values.append(element)\n",
    "d = dict(zip(keys,values))\n",
    "print(\"The Dictionary is:\")\n",
    "print(d)"
   ]
  },
  {
   "cell_type": "markdown",
   "metadata": {},
   "source": [
    "# Task 9\n",
    "\n",
    "Python Program to Count the Frequency of Words Appearing in a String Using a Dictionary"
   ]
  },
  {
   "cell_type": "markdown",
   "metadata": {},
   "source": [
    "# Case 1"
   ]
  },
  {
   "cell_type": "code",
   "execution_count": 5,
   "metadata": {},
   "outputs": [
    {
     "name": "stdout",
     "output_type": "stream",
     "text": [
      "Enter String:hello world program world test\n",
      "{'hello': 1, 'world': 2, 'program': 1, 'test': 1}\n"
     ]
    }
   ],
   "source": [
    "str = input(\"Enter String:\")\n",
    "l = []\n",
    "l = str.split()\n",
    "wordfreq = [l.count(p) for p in l]\n",
    "print(dict(zip(l,wordfreq)))\n"
   ]
  },
  {
   "cell_type": "markdown",
   "metadata": {},
   "source": [
    "# Case 2"
   ]
  },
  {
   "cell_type": "code",
   "execution_count": 7,
   "metadata": {},
   "outputs": [
    {
     "name": "stdout",
     "output_type": "stream",
     "text": [
      "Enter String:orange banana apple apple orange pineapple\n",
      "{'orange': 2, 'banana': 1, 'apple': 2, 'pineapple': 1}\n"
     ]
    }
   ],
   "source": [
    "str = input(\"Enter String:\")\n",
    "l = []\n",
    "l = str.split()\n",
    "wordfreq = [l.count(p) for p in l]\n",
    "print(dict(zip(l,wordfreq)))\n"
   ]
  },
  {
   "cell_type": "markdown",
   "metadata": {},
   "source": [
    "# Task 10\n",
    "\n",
    "Python Program to Create a Dictionary with key as First Character and Value as Words Starting with tha Character"
   ]
  },
  {
   "cell_type": "markdown",
   "metadata": {},
   "source": [
    "# Case 1"
   ]
  },
  {
   "cell_type": "code",
   "execution_count": 13,
   "metadata": {},
   "outputs": [
    {
     "name": "stdout",
     "output_type": "stream",
     "text": [
      "Enter String:Hello world this is a test string\n",
      "H : ['Hello']\n",
      "H : ['Hello']\n",
      "w : ['world']\n",
      "H : ['Hello']\n",
      "w : ['world']\n",
      "t : ['this']\n",
      "H : ['Hello']\n",
      "w : ['world']\n",
      "t : ['this']\n",
      "i : ['is']\n",
      "H : ['Hello']\n",
      "w : ['world']\n",
      "t : ['this']\n",
      "i : ['is']\n",
      "a : ['a']\n",
      "H : ['Hello']\n",
      "w : ['world']\n",
      "t : ['this', 'test']\n",
      "i : ['is']\n",
      "a : ['a']\n",
      "H : ['Hello']\n",
      "w : ['world']\n",
      "t : ['this', 'test']\n",
      "i : ['is']\n",
      "a : ['a']\n",
      "s : ['string']\n"
     ]
    }
   ],
   "source": [
    "str = input(\"Enter String:\")\n",
    "l = str.split()\n",
    "d = {}\n",
    "for word in l:\n",
    "    if (word[0] not in d.keys()):\n",
    "        d[word[0]]=[]\n",
    "        d[word[0]].append(word)\n",
    "    else:\n",
    "        if(word not in d[word[0]]):\n",
    "         d[word[0]].append(word)\n",
    "    for k,v in d.items():\n",
    "        print(k,\":\",v)"
   ]
  },
  {
   "cell_type": "markdown",
   "metadata": {},
   "source": [
    "# Case 2"
   ]
  },
  {
   "cell_type": "code",
   "execution_count": 12,
   "metadata": {},
   "outputs": [
    {
     "name": "stdout",
     "output_type": "stream",
     "text": [
      "Enter String:Python is my most favourite programming language in the entire world\n",
      "P : ['Python']\n",
      "P : ['Python']\n",
      "i : ['is']\n",
      "P : ['Python']\n",
      "i : ['is']\n",
      "m : ['my']\n",
      "P : ['Python']\n",
      "i : ['is']\n",
      "m : ['my', 'most']\n",
      "P : ['Python']\n",
      "i : ['is']\n",
      "m : ['my', 'most']\n",
      "f : ['favourite']\n",
      "P : ['Python']\n",
      "i : ['is']\n",
      "m : ['my', 'most']\n",
      "f : ['favourite']\n",
      "p : ['programming']\n",
      "P : ['Python']\n",
      "i : ['is']\n",
      "m : ['my', 'most']\n",
      "f : ['favourite']\n",
      "p : ['programming']\n",
      "l : ['language']\n",
      "P : ['Python']\n",
      "i : ['is', 'in']\n",
      "m : ['my', 'most']\n",
      "f : ['favourite']\n",
      "p : ['programming']\n",
      "l : ['language']\n",
      "P : ['Python']\n",
      "i : ['is', 'in']\n",
      "m : ['my', 'most']\n",
      "f : ['favourite']\n",
      "p : ['programming']\n",
      "l : ['language']\n",
      "t : ['the']\n",
      "P : ['Python']\n",
      "i : ['is', 'in']\n",
      "m : ['my', 'most']\n",
      "f : ['favourite']\n",
      "p : ['programming']\n",
      "l : ['language']\n",
      "t : ['the']\n",
      "e : ['entire']\n",
      "P : ['Python']\n",
      "i : ['is', 'in']\n",
      "m : ['my', 'most']\n",
      "f : ['favourite']\n",
      "p : ['programming']\n",
      "l : ['language']\n",
      "t : ['the']\n",
      "e : ['entire']\n",
      "w : ['world']\n"
     ]
    }
   ],
   "source": [
    "str = input(\"Enter String:\")\n",
    "l = str.split()\n",
    "d = {}\n",
    "for word in l:\n",
    "    if (word[0] not in d.keys()):\n",
    "        d[word[0]]=[]\n",
    "        d[word[0]].append(word)\n",
    "    else:\n",
    "        if(word not in d[word[0]]):\n",
    "          d[word[0]].append(word)\n",
    "    for k,v in d.items():\n",
    "        print(k,\":\",v)"
   ]
  },
  {
   "cell_type": "code",
   "execution_count": null,
   "metadata": {},
   "outputs": [],
   "source": []
  }
 ],
 "metadata": {
  "kernelspec": {
   "display_name": "Python 3",
   "language": "python",
   "name": "python3"
  },
  "language_info": {
   "codemirror_mode": {
    "name": "ipython",
    "version": 3
   },
   "file_extension": ".py",
   "mimetype": "text/x-python",
   "name": "python",
   "nbconvert_exporter": "python",
   "pygments_lexer": "ipython3",
   "version": "3.7.4"
  }
 },
 "nbformat": 4,
 "nbformat_minor": 2
}
